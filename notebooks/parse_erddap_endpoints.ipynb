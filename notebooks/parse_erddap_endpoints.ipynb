{
 "metadata": {
  "name": "",
  "signature": "sha256:ef3aeaaed23075c6a4e47cb8ef0488c37257258895b6a3f7a710bbcca5b2e979"
 },
 "nbformat": 3,
 "nbformat_minor": 0,
 "worksheets": [
  {
   "cells": [
    {
     "cell_type": "code",
     "collapsed": false,
     "input": [
      "import requests\n",
      "import simplejson\n",
      "import json\n",
      "\n",
      "base_url = \"http://erddap.ooi.rutgers.edu/erddap\""
     ],
     "language": "python",
     "metadata": {},
     "outputs": [],
     "prompt_number": 170
    },
    {
     "cell_type": "code",
     "collapsed": false,
     "input": [
      "def getStreamIdsForRef(ref,meta_outline):\n",
      "    stream_list = []\n",
      "    for r in meta_outline[\"table\"][\"rows\"][1]:\n",
      "        if (r.startswith(ref)):\n",
      "            d_r = r.split(ref)\n",
      "            if len(d_r)>0:\n",
      "                stream = d_r[1][1:]\n",
      "                if stream not in stream_list:\n",
      "                    stream_list.append(stream)    \n",
      "    return stream_list"
     ],
     "language": "python",
     "metadata": {},
     "outputs": [],
     "prompt_number": 171
    },
    {
     "cell_type": "code",
     "collapsed": false,
     "input": [
      "def getAttribsForRef(ref,stream):\n",
      "    variable_list = []\n",
      "    \n",
      "    url = base_url+\"/info/\"+ref+'_'+stream+\"/index.json\"\n",
      "    ref_outline = requests.get(url)\n",
      "    \n",
      "    d = ref_outline.json()['table']\n",
      "    cols = d['columnNames']\n",
      "    for i,c in enumerate(cols):\n",
      "        if c == \"Variable Name\":            \n",
      "            break\n",
      "    for r in d['rows']:\n",
      "        if r[i] != \"NC_GLOBAL\" and r[i] not in variable_list and r[i] != \"time\":\n",
      "            variable_list.append(r[i])\n",
      "\n",
      "    return variable_list"
     ],
     "language": "python",
     "metadata": {},
     "outputs": [],
     "prompt_number": 172
    },
    {
     "cell_type": "code",
     "collapsed": false,
     "input": [
      "url = base_url+\"/info/index.json\"\n",
      "meta_outline = requests.get(url)\n",
      "meta_outline = meta_outline.json()\n",
      "\n",
      "ref_id = \"CP05MAS_GL001_03_CTDGVM0000\"\n",
      "stream_list = getStreamIdsForRef(ref_id,meta_outline)\n",
      "\n",
      "for stream in stream_list:\n",
      "    params = getAttribsForRef(ref_id,stream)"
     ],
     "language": "python",
     "metadata": {},
     "outputs": [
      {
       "output_type": "stream",
       "stream": "stdout",
       "text": [
        "[u'm_present_time', u'sci_water_cond', u'sci_m_present_secs_into_mission', u'sci_water_temp', u'preferred_timestamp', u'm_present_secs_into_mission', u'sci_water_pressure', u'sci_m_present_time', u'internal_timestamp', u'sci_ctd41cp_timestamp', u'driver_timestamp']\n"
       ]
      }
     ],
     "prompt_number": 173
    },
    {
     "cell_type": "code",
     "collapsed": false,
     "input": [],
     "language": "python",
     "metadata": {},
     "outputs": [],
     "prompt_number": 173
    }
   ],
   "metadata": {}
  }
 ]
}