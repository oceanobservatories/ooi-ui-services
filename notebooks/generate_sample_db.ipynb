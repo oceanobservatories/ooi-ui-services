{
 "metadata": {
  "name": "",
  "signature": "sha256:ed23218a5b341a687945dd2a203e6d1d9ea3f86a27906c5401ff6056a29c0b43"
 },
 "nbformat": 3,
 "nbformat_minor": 0,
 "worksheets": [
  {
   "cells": [
    {
     "cell_type": "code",
     "collapsed": false,
     "input": [
      "import sqlite3\n",
      "import os.path\n",
      "import csv\n",
      "import json\n",
      "import numpy as np\n",
      "\n",
      "db_name = 'sample.db'"
     ],
     "language": "python",
     "metadata": {},
     "outputs": [],
     "prompt_number": 184
    },
    {
     "cell_type": "code",
     "collapsed": false,
     "input": [
      "if os.path.isfile(db_name):\n",
      "    os.remove(db_name)\n",
      "\n",
      "conn = sqlite3.connect(db_name)\n",
      "c = conn.cursor()\n",
      "# create ooi array codes\n",
      "c.execute('''CREATE TABLE ooi_array\n",
      "(\n",
      "  array_code character varying NOT NULL,\n",
      "  array_description character varying,  \n",
      "  CONSTRAINT pkooi_array PRIMARY KEY (array_code)\n",
      ")''')\n",
      "\n",
      "# create ooi node codes\n",
      "c.execute('''CREATE TABLE ooi_nodes\n",
      "(\n",
      "  node_code character varying NOT NULL,\n",
      "  node_description character varying,  \n",
      "  CONSTRAINT pkooi_nodes PRIMARY KEY (node_code)\n",
      ")''')\n",
      "          \n",
      "# create ooi instrument classes\n",
      "c.execute('''CREATE TABLE ooi_instrument_class\n",
      "(\n",
      "  instrument_class_code character varying NOT NULL,\n",
      "  instrument_class_description character varying,  \n",
      "  CONSTRAINT pkooi_instrument_class PRIMARY KEY (instrument_class_code)\n",
      ")''')\n",
      "          \n",
      "# create ooi subsite\n",
      "c.execute('''CREATE TABLE ooi_subsite\n",
      "(\n",
      "  ooi_subsite_code character varying NOT NULL,\n",
      "  ooi_subsite_id character varying,  \n",
      "  ooi_subsite_description character varying  \n",
      ")''')\n",
      "          \n",
      "# create ooi platforms\n",
      "c.execute('''CREATE TABLE ooi_platforms\n",
      "(\n",
      "  array_code text NOT NULL,\n",
      "  site_prefix text NOT NULL,\n",
      "  site_suffix text NOT NULL,\n",
      "  node_type_code text NOT NULL,\n",
      "  port_number text NOT NULL,\n",
      "  latitude real,\n",
      "  longitude real,\n",
      "  node_site_sequence text NOT NULL\n",
      ")''')"
     ],
     "language": "python",
     "metadata": {},
     "outputs": [
      {
       "metadata": {},
       "output_type": "pyout",
       "prompt_number": 185,
       "text": [
        "<sqlite3.Cursor at 0x112a72b90>"
       ]
      }
     ],
     "prompt_number": 185
    },
    {
     "cell_type": "markdown",
     "metadata": {},
     "source": [
      "##ARRAY"
     ]
    },
    {
     "cell_type": "code",
     "collapsed": false,
     "input": [
      "arrays = [\n",
      "{\"id\":\"CE\",\"name\":\"Endurance Array\"},\n",
      "{\"id\":\"CI\",\"name\":\"Cyber Infrastructure\"},\n",
      "{\"id\":\"CP\",\"name\":\"Pioneer Array\"},\n",
      "{\"id\":\"GA\",\"name\":\"Global Argentine\"},\n",
      "{\"id\":\"GI\",\"name\":\"Global Irminger Sea\"},\n",
      "{\"id\":\"GP\",\"name\":\"Station PAPA\"},\n",
      "{\"id\":\"GS\",\"name\":\"55 South\"},\n",
      "{\"id\":\"OO\",\"name\":\"OOI\"},\n",
      "{\"id\":\"RS\",\"name\":\"Regional\"},\n",
      "{\"id\":\"SS\",\"name\":\"Shore Side Facilities\"}]\n",
      "\n",
      "for a in arrays:\n",
      "    query = \"INSERT INTO ooi_array(array_code,array_description) VALUES ('\"+a[\"id\"]+\"','\"+a[\"name\"]+\"')\"\n",
      "    c.execute(query)\n",
      "conn.commit()"
     ],
     "language": "python",
     "metadata": {},
     "outputs": [],
     "prompt_number": 186
    },
    {
     "cell_type": "markdown",
     "metadata": {},
     "source": [
      "##NODE"
     ]
    },
    {
     "cell_type": "code",
     "collapsed": false,
     "input": [
      "note_types = [\"SF(Shallow Profiler Science Float)\",\n",
      "\"ID(IF box HD camera)\",\n",
      "\"MF(Multi-Function Node)\",\n",
      "\"PC(Platform Interface Controller)\",\n",
      "\"SB(Surface Buoy)\",\n",
      "\"WF(Wire-Following Profiler)\",\n",
      "\"MJ(MP Jbox)\",\n",
      "\"SP(Surface-Piercing Profiler)\",\n",
      "\"RI(Mooring Riser)\",\n",
      "\"LJ(LP Jbox)\",\n",
      "\"AV(AUV)\",\n",
      "\"DP(Deep Profiler)\",\n",
      "\"GL(Gliders)\",\n",
      "\"MP(Mid-Water Platform)\",\n",
      "]\n",
      "\n",
      "for node in note_types:\n",
      "    n = []\n",
      "    n = node.split(\"(\")\n",
      "    n[1] = n[1][0:-1]    \n",
      "    query = \"INSERT INTO ooi_nodes(node_code,node_description) VALUES ('\"+n[0]+\"','\"+n[1]+\"')\"\n",
      "    c.execute(query)\n",
      "conn.commit()"
     ],
     "language": "python",
     "metadata": {},
     "outputs": [],
     "prompt_number": 187
    },
    {
     "cell_type": "markdown",
     "metadata": {},
     "source": [
      "##INSTRUMENT CLASS"
     ]
    },
    {
     "cell_type": "code",
     "collapsed": false,
     "input": [
      "in_class = [\"TMPSF\",\"VADCP\",\"PREST\", \"PPSDN\", \"THSPH\", \"CTDBP\", \"METBK\", \"OBSSP\", \"VEL3D\", \"PARAD\", \"MASSP\", \"SPKIR\", \"CAMHD\", \"DOSTA\", \"RASFL\", \"ZPLSC\", \"FLORD\", \"HPIES\", \"HYDLF\", \"OSMOI\", \"ADCPS\", \"ZPLSG\", \"DOFST\", \"PHSEN\", \"NUTNR\", \"HYDBB\", \"CTDPF\", \"TRHPH\", \"VELPT\", \"OBSBB\", \"FLOBN\", \"OPTAA\", \"WAVSS\", \"FDCHP\", \"BOTPT\", \"PCO2A\", \"PCO2W\", \"CTDAV\", \"ADCPT\", \"FLORT\", \"CTDGV\", \"PRESF\", \"CTDMO\", \"CAMDS\", \"ADCPA\", \"OBSBK\"]\n",
      "for in_c in in_class:   \n",
      "    query = \"INSERT INTO ooi_instrument_class(instrument_class_code) VALUES ('\"+in_c+\"')\"\n",
      "    c.execute(query)\n",
      "conn.commit()"
     ],
     "language": "python",
     "metadata": {},
     "outputs": [],
     "prompt_number": 188
    },
    {
     "cell_type": "markdown",
     "metadata": {},
     "source": [
      "##SUBSITE"
     ]
    },
    {
     "cell_type": "code",
     "collapsed": false,
     "input": [
      "site_nodes = [\"CP01CNSP\", \"GI01SUMO\", \"CP04OSPM\", \"CE01ISSM\", \"GS03FLMB\", \"CP05MOAS\", \"CP03ISSP\", \"CP01CNSM\", \"CE05MOAS\", \"GA03FLMA\", \"RS03AXBS\", \"RS03AXVM\", \"RS01SLBS\", \"CE07SHSM\", \"RS03ECAL\", \"CE06ISSP\", \"CE04OSSM\", \"GA05MOAS\", \"CP02PMUO\", \"GP05MOAS\", \"GP03FLMB\", \"GS01SUMO\", \"RS01SUM1\", \"RS01SBVM\", \"RS01SUM2\", \"CE02SHSP\", \"RS03ASHS\", \"GP03FLMA\", \"CE02SHBP\", \"GS03FLMA\", \"RS03CCAL\", \"RS03INT2\", \"CE07SHSP\", \"GA02HYPM\", \"RS03INT1\", \"CE02SHSM\", \"GI03FLMA\", \"CE09OSPM\", \"CE09OSSM\", \"CE04OSBP\", \"CP02PMCI\", \"GP02HYPM\", \"CP02PMUI\", \"CE04OSHY\", \"GI05MOAS\", \"CE01ISSP\", \"GI02HYPM\", \"CP03ISSM\", \"GA01SUMO\", \"GA03FLMB\", \"CP04OSSM\", \"CE06ISSM\", \"GI03FLMB\", \"GS02HYPM\", \"CP02PMCO\", \"GS05MOAS\"]\n",
      "codelist = []\n",
      "for node in site_nodes:   \n",
      "    array = node[0:2]\n",
      "    site_id = node[2:4]\n",
      "    site_code = node[4:]    \n",
      "    if site_id+site_code not in codelist:\n",
      "        codelist.append(site_id+site_code)\n",
      "        #print node,array,site_id,site_code\n",
      "        query = \"INSERT INTO ooi_subsite(ooi_subsite_code,ooi_subsite_id) VALUES ('\"+site_code+\"','\"+site_id+\"')\"\n",
      "        c.execute(query)\n",
      "conn.commit()"
     ],
     "language": "python",
     "metadata": {},
     "outputs": [],
     "prompt_number": 189
    },
    {
     "cell_type": "markdown",
     "metadata": {},
     "source": [
      "## PLATFORMS"
     ]
    },
    {
     "cell_type": "code",
     "collapsed": false,
     "input": [
      "with open('platform_ports.csv', 'rb') as csvfile:\n",
      "    csvreader = csv.reader(csvfile, delimiter=';', quotechar='|')\n",
      "    for row in csvreader:\n",
      "        #print (row)\n",
      "        datarow = \"\"\n",
      "        valarray = []\n",
      "        for i,col in enumerate(row):\n",
      "            if i == 5 or i == 6:\n",
      "                try:\n",
      "                    val = float(row[i])\n",
      "                except:\n",
      "                    val = '-999'\n",
      "            else:\n",
      "                val = \"'\"+col+\"'\"\n",
      "            valarray.append(str(val))\n",
      "        datarow = \",\".join(valarray)                        \n",
      "        query = \"INSERT INTO ooi_platforms VALUES (\"+datarow+\")\"                    \n",
      "        c.execute(query)\n",
      "        \n",
      "conn.commit()"
     ],
     "language": "python",
     "metadata": {},
     "outputs": [],
     "prompt_number": 190
    },
    {
     "cell_type": "markdown",
     "metadata": {},
     "source": [
      "##INSTRUMENTS"
     ]
    },
    {
     "cell_type": "code",
     "collapsed": false,
     "input": [
      "#NOT IMPLEMENTED"
     ],
     "language": "python",
     "metadata": {},
     "outputs": [],
     "prompt_number": 191
    },
    {
     "cell_type": "markdown",
     "metadata": {},
     "source": [
      "# GENERATE STATION/PLATFORM JSON FILE"
     ]
    },
    {
     "cell_type": "code",
     "collapsed": false,
     "input": [
      "c.execute(\"SELECT * FROM ooi_platforms\")\n",
      "rows = c.fetchall()\n",
      "data_dict = {}\n",
      "print \"rows\",len(rows)\n",
      "st_count = 0\n",
      "for row in rows:\n",
      "    array = row[0]\n",
      "    site_id = row[1] #site prefix\n",
      "    site = row[2]    #site suffix\n",
      "    \n",
      "    node = row[3]    #note type\n",
      "    port = row[4]        \n",
      "    lat = row[5]    \n",
      "    lon = row[6]\n",
      "    node_seq = row[-1] #node seq?\n",
      "    if array not in data_dict:\n",
      "       data_dict[array] = {}\n",
      "\n",
      "    if site not in data_dict[array]:\n",
      "       data_dict[array][site] = {\"ports\":[],\"lat\":lat,\"lon\":lon,\"site_id\":site_id,\"node_seq\":[]}\n",
      "       st_count +=1 \n",
      "    \n",
      "    if port not in data_dict[array][site][\"ports\"]:\n",
      "        data_dict[array][site][\"ports\"].append(port)\n",
      "        \n",
      "    if node_seq not in data_dict[array][site][\"node_seq\"]:\n",
      "        data_dict[array][site][\"node_seq\"].append(node_seq)\n",
      "        \n",
      "with open(\"stations.json\", \"w\") as outfile:\n",
      "    json.dump(data_dict, outfile, indent=4)\n",
      "    \n",
      "print \"platforms\",st_count"
     ],
     "language": "python",
     "metadata": {},
     "outputs": [
      {
       "output_type": "stream",
       "stream": "stdout",
       "text": [
        "rows 718\n",
        "platforms 51\n"
       ]
      }
     ],
     "prompt_number": 192
    },
    {
     "cell_type": "markdown",
     "metadata": {},
     "source": [
      "##CLOSE"
     ]
    },
    {
     "cell_type": "code",
     "collapsed": false,
     "input": [
      "conn.close()"
     ],
     "language": "python",
     "metadata": {},
     "outputs": [],
     "prompt_number": 193
    },
    {
     "cell_type": "code",
     "collapsed": false,
     "input": [],
     "language": "python",
     "metadata": {},
     "outputs": [],
     "prompt_number": 193
    },
    {
     "cell_type": "code",
     "collapsed": false,
     "input": [],
     "language": "python",
     "metadata": {},
     "outputs": [],
     "prompt_number": 193
    }
   ],
   "metadata": {}
  }
 ]
}